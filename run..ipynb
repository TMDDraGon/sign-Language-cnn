{
 "cells": [
  {
   "cell_type": "code",
   "execution_count": null,
   "metadata": {},
   "outputs": [],
   "source": [
    "import code_1\n",
    "from tensorflow.keras.preprocessing.image import ImageDataGenerator"
   ]
  },
  {
   "cell_type": "code",
   "execution_count": null,
   "metadata": {},
   "outputs": [],
   "source": [
    "train_datagen = ImageDataGenerator(\n",
    "    rescale=1./255,\n",
    "    rotation_range=20,\n",
    "    width_shift_range=0.2,\n",
    "    height_shift_range=0.2,\n",
    "    shear_range=0.2,\n",
    "    zoom_range=0.2,\n",
    "    horizontal_flip=True,\n",
    "    fill_mode='nearest'\n",
    ")\n",
    "\n",
    "# Load train data using the generator\n",
    "train_generator = train_datagen.flow_from_directory(\n",
    "    'train_data_directory',\n",
    "    target_size=(227, 227),\n",
    "    batch_size=32,\n",
    "    class_mode='categorical'\n",
    ")\n"
   ]
  },
  {
   "cell_type": "code",
   "execution_count": null,
   "metadata": {},
   "outputs": [],
   "source": [
    "\n",
    "train_it = train_datagen.flow_from_directory('/content/drive/My Drive/ML/SA_ImgC/images/train' ,class_mode='binary'\n",
    ", batch_size=64 , target_size=(300, 300) ,subset=\"training\" )\n",
    "valid_it = train_generator.flow_from_directory('/content/drive/My Drive/ML/SA_ImgC/images/train' ,class_mode='binary'\n",
    ", batch_size=64 , target_size=(300, 300) ,subset=\"validation\" )"
   ]
  }
 ],
 "metadata": {
  "language_info": {
   "name": "python"
  }
 },
 "nbformat": 4,
 "nbformat_minor": 2
}
